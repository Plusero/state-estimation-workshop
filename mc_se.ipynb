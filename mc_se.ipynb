{
 "cells": [
  {
   "cell_type": "markdown",
   "metadata": {},
   "source": [
    "# Imports"
   ]
  },
  {
   "cell_type": "code",
   "execution_count": 61,
   "metadata": {},
   "outputs": [],
   "source": [
    "from sympy.solvers import solve,nsolve\n",
    "from sympy import Symbol\n",
    "import numpy as np\n",
    "import matplotlib.pyplot as plt\n",
    "import seaborn as sns\n",
    "from scipy.stats import probplot\n",
    "from multiprocessing import Pool\n",
    "import scienceplots\n",
    "plt.style.use(\"science\")"
   ]
  },
  {
   "cell_type": "markdown",
   "metadata": {},
   "source": [
    "# The Circuit"
   ]
  },
  {
   "cell_type": "markdown",
   "metadata": {},
   "source": [
    "The circuit is as follows:\n",
    "![](./images/simple-circuit.jpg)"
   ]
  },
  {
   "cell_type": "markdown",
   "metadata": {},
   "source": [
    "The state variable is the current through the resistor.The measurement equation is as follows:\n",
    "$$\n",
    "\\begin{cases}\n",
    "    Z_1 = x+v_1\\\\\n",
    "    Z_2 = R x+v_2\\\\\n",
    "    Z_3 = R x^2+v_3\\\\\n",
    "\\end{cases}\n",
    "$$\n",
    "where $x$ is the state variable, $v_i$ is the measurement noise, and $Z_i$ is the measurement value."
   ]
  },
  {
   "cell_type": "markdown",
   "metadata": {},
   "source": [
    "Taking the p.u. values, we have:\n",
    "$$\n",
    "\\begin{cases}\n",
    "    Z_1 = x+v_1\\\\\n",
    "    \\frac{Z_2}{R} = x+v_2\\\\\n",
    "    \\frac{Z_3}{R^2} = x^2+v_3\\\\\n",
    "\\end{cases}\n",
    "$$\n",
    "\n",
    "\n",
    "\n"
   ]
  },
  {
   "cell_type": "markdown",
   "metadata": {},
   "source": [
    "Plug in the measurement values, we have:\n",
    "$$\n",
    "\\begin{cases}\n",
    "    1.05 = x+v_1\\\\\n",
    "    0.98 = x+v_2\\\\\n",
    "    0.96 = x^2+v_3\\\\\n",
    "\\end{cases}\n",
    "$$"
   ]
  },
  {
   "cell_type": "markdown",
   "metadata": {},
   "source": [
    "For a least square without weighting, the target function is:\n",
    "$$\n",
    "J(x) = (1.05 - x)^2 + (0.98 - x)^2 + (0.96 - x^2)^2\n",
    "$$\n",
    "For weighted least square, the target function is:\n",
    "$$\n",
    "J(x) = w_0(1.05 - x)^2 + w_1(0.98 - x)^2 + w_2(0.96 - x^2)^2\n",
    "$$\n",
    "where $w_i=\\frac{1}{\\sigma_i^2}$.\n",
    "\n",
    "\n"
   ]
  },
  {
   "cell_type": "markdown",
   "metadata": {},
   "source": [
    "# Initialization"
   ]
  },
  {
   "cell_type": "code",
   "execution_count": 62,
   "metadata": {},
   "outputs": [],
   "source": [
    "# Create a dictionary to store all the parameters\n",
    "data = {\n",
    "    'means': {\n",
    "        0: 1.0,\n",
    "        1: 1.0,\n",
    "        2: 1.0\n",
    "    },\n",
    "    'stds': {\n",
    "        0: 0.05,\n",
    "        1: 0.02,\n",
    "        2: 0.01\n",
    "    },\n",
    "    'measurements': {\n",
    "        0: 1.05,\n",
    "        1: 0.98,\n",
    "        2: 0.96\n",
    "    }\n",
    "    # Values here are p.u. values.\n",
    "}\n",
    "data['weights'] = {i: 1 / data['stds'][i]**2 for i in range(3)}\n",
    "# generate certain number sets of measurements\n",
    "no_sets=10000\n",
    "# set the random seed of numpy\n",
    "np.random.seed(42)\n",
    "data['mc_measurements'] = {\n",
    "    0: np.random.normal(data['means'][0], data['stds'][0], no_sets),\n",
    "    1: np.random.normal(data['means'][1], data['stds'][1], no_sets),\n",
    "    2: np.random.normal(data['means'][2], data['stds'][2], no_sets)\n",
    "}"
   ]
  },
  {
   "cell_type": "markdown",
   "metadata": {},
   "source": [
    "# State Estimation Example"
   ]
  },
  {
   "cell_type": "markdown",
   "metadata": {},
   "source": [
    "## Least Squares 2 Measurements "
   ]
  },
  {
   "cell_type": "code",
   "execution_count": 63,
   "metadata": {},
   "outputs": [],
   "source": [
    "x = Symbol('x',real=True)\n",
    "x_hat_ls_2=nsolve(-2*(data['measurements'][0]-x)-2*(data['measurements'][1]-x), x,1)"
   ]
  },
  {
   "cell_type": "code",
   "execution_count": 64,
   "metadata": {},
   "outputs": [
    {
     "data": {
      "text/latex": [
       "$\\displaystyle 1.015$"
      ],
      "text/plain": [
       "1.01500000000000"
      ]
     },
     "execution_count": 64,
     "metadata": {},
     "output_type": "execute_result"
    }
   ],
   "source": [
    "x_hat_ls_2"
   ]
  },
  {
   "cell_type": "markdown",
   "metadata": {},
   "source": [
    "## LS 3 measurements"
   ]
  },
  {
   "cell_type": "code",
   "execution_count": 65,
   "metadata": {},
   "outputs": [],
   "source": [
    "x_hat_ls_3=nsolve(-2*(data['measurements'][0]-x)-2*(data['measurements'][1]-x)-4*x*(data['measurements'][2]-x**2), x,1)"
   ]
  },
  {
   "cell_type": "code",
   "execution_count": 66,
   "metadata": {},
   "outputs": [
    {
     "data": {
      "text/latex": [
       "$\\displaystyle 0.99170866155231$"
      ],
      "text/plain": [
       "0.991708661552310"
      ]
     },
     "execution_count": 66,
     "metadata": {},
     "output_type": "execute_result"
    }
   ],
   "source": [
    "x_hat_ls_3"
   ]
  },
  {
   "cell_type": "markdown",
   "metadata": {},
   "source": [
    "## WLS 2 measurements (Weighted Least Squares)"
   ]
  },
  {
   "cell_type": "code",
   "execution_count": 67,
   "metadata": {},
   "outputs": [],
   "source": [
    "x_hat_wls_2=nsolve(-2*data['weights'][0]*(data['measurements'][0]-x)-2*data['weights'][1]*(data['measurements'][1]-x), x,1)"
   ]
  },
  {
   "cell_type": "code",
   "execution_count": 68,
   "metadata": {},
   "outputs": [
    {
     "data": {
      "text/latex": [
       "$\\displaystyle 0.989655172413793$"
      ],
      "text/plain": [
       "0.989655172413793"
      ]
     },
     "execution_count": 68,
     "metadata": {},
     "output_type": "execute_result"
    }
   ],
   "source": [
    "x_hat_wls_2"
   ]
  },
  {
   "cell_type": "markdown",
   "metadata": {},
   "source": [
    "## WLS 3 measurements (Weighted Least Squares)"
   ]
  },
  {
   "cell_type": "code",
   "execution_count": 69,
   "metadata": {},
   "outputs": [
    {
     "data": {
      "text/latex": [
       "$\\displaystyle 0.98048751385879$"
      ],
      "text/plain": [
       "0.980487513858790"
      ]
     },
     "execution_count": 69,
     "metadata": {},
     "output_type": "execute_result"
    }
   ],
   "source": [
    "x_hat_wls_3=nsolve(-2*data['weights'][0]*(data['measurements'][0]-x)-2*data['weights'][1]*(data['measurements'][1]-x)-4*data['weights'][2]*x*(data['measurements'][2]-x**2), x,1)\n",
    "x_hat_wls_3"
   ]
  },
  {
   "cell_type": "markdown",
   "metadata": {},
   "source": [
    "# Monte Carlo simulation"
   ]
  },
  {
   "cell_type": "code",
   "execution_count": 70,
   "metadata": {},
   "outputs": [
    {
     "data": {
      "text/plain": [
       "<Axes: ylabel='Count'>"
      ]
     },
     "execution_count": 70,
     "metadata": {},
     "output_type": "execute_result"
    },
    {
     "data": {
      "image/png": "[encoded data removed]",
      "text/plain": [
       "<Figure size 350x262.5 with 1 Axes>"
      ]
     },
     "metadata": {},
     "output_type": "display_data"
    }
   ],
   "source": [
    "# check the distribution of the measurements\n",
    "sns.histplot(data['mc_measurements'][0],bins=20,kde=True)\n",
    "sns.histplot(data['mc_measurements'][1],bins=20,kde=True)\n",
    "sns.histplot(data['mc_measurements'][2],bins=20,kde=True)"
   ]
  },
  {
   "cell_type": "markdown",
   "metadata": {},
   "source": [
    "## WSL 2 Measurements"
   ]
  },
  {
   "cell_type": "code",
   "execution_count": 71,
   "metadata": {},
   "outputs": [],
   "source": [
    "w0=data['weights'][0]\n",
    "w1=data['weights'][1]\n",
    "w2=data['weights'][2]\n",
    "mc_m0=data['mc_measurements'][0]\n",
    "mc_m1=data['mc_measurements'][1]\n",
    "mc_m2=data['mc_measurements'][2]"
   ]
  },
  {
   "cell_type": "code",
   "execution_count": 72,
   "metadata": {},
   "outputs": [],
   "source": [
    "def solve_single_estimate_wsl_2(i):\n",
    "    x = Symbol('x')\n",
    "    try:\n",
    "        x_hat = nsolve(-2*w0*(mc_m0[i]-x)-2*w1*(mc_m1[i]-x), x, 1)\n",
    "        return float(x_hat)\n",
    "    except:\n",
    "        return None"
   ]
  },
  {
   "cell_type": "code",
   "execution_count": 73,
   "metadata": {},
   "outputs": [],
   "source": [
    "if __name__ == '__main__':\n",
    "    # Number of processes - usually set to number of CPU cores\n",
    "    num_processes = 12  # adjust this based on your CPU\n",
    "    \n",
    "    # Create the pool of workers\n",
    "    with Pool(processes=num_processes) as pool:\n",
    "        results = pool.map(solve_single_estimate_wsl_2, range(no_sets))\n",
    "    x_mc_estimates_wsl_2 = [x for x in results if x is not None]"
   ]
  },
  {
   "cell_type": "code",
   "execution_count": 74,
   "metadata": {},
   "outputs": [
    {
     "data": {
      "image/png": "[encoded data removed]",
      "text/plain": [
       "<Figure size 350x262.5 with 1 Axes>"
      ]
     },
     "metadata": {},
     "output_type": "display_data"
    },
    {
     "data": {
      "image/png": "[encoded data removed]",
      "text/plain": [
       "<Figure size 350x262.5 with 1 Axes>"
      ]
     },
     "metadata": {},
     "output_type": "display_data"
    }
   ],
   "source": [
    "# plot the distribution of the estimates, with the kde. \n",
    "sns.histplot(x_mc_estimates_wsl_2,kde=True)\n",
    "plt.show()\n",
    "# use the Q-Q plot to check if the distribution is Gaussian\n",
    "#Q-Q plots plot the data against a specified distribution. \n",
    "probplot(x_mc_estimates_wsl_2,dist='norm',plot=plt)\n",
    "plt.show()"
   ]
  },
  {
   "cell_type": "markdown",
   "metadata": {},
   "source": [
    "## WSL 3 Measurements"
   ]
  },
  {
   "cell_type": "code",
   "execution_count": 75,
   "metadata": {},
   "outputs": [],
   "source": [
    "def solve_single_estimate_wsl_3(i):\n",
    "    x = Symbol('x')\n",
    "    try:\n",
    "        x_hat = nsolve(-2*w0*(mc_m0[i]-x)-2*w1*(mc_m1[i]-x)-4*w2*x*(mc_m2[i]-x**2), x, 1)\n",
    "        return float(x_hat)\n",
    "    except:\n",
    "        return None"
   ]
  },
  {
   "cell_type": "code",
   "execution_count": 76,
   "metadata": {},
   "outputs": [],
   "source": [
    "# Initialize the parallel processing\n",
    "if __name__ == '__main__':\n",
    "    # Number of processes - usually set to number of CPU cores\n",
    "    num_processes = 12  # adjust this based on your CPU\n",
    "    \n",
    "    # Create the pool of workers\n",
    "    with Pool(processes=num_processes) as pool:\n",
    "        # Map the function to all indices\n",
    "        results = pool.map(solve_single_estimate_wsl_3, range(no_sets))\n",
    "    \n",
    "    # Filter out None values (failed solutions) and convert to list\n",
    "    x_mc_estimates_wsl_3 = [x for x in results if x is not None]"
   ]
  },
  {
   "cell_type": "code",
   "execution_count": 77,
   "metadata": {},
   "outputs": [
    {
     "data": {
      "image/png": "[encoded data removed]",
      "text/plain": [
       "<Figure size 350x262.5 with 1 Axes>"
      ]
     },
     "metadata": {},
     "output_type": "display_data"
    },
    {
     "data": {
      "image/png": "[encoded data removed]",
      "text/plain": [
       "<Figure size 350x262.5 with 1 Axes>"
      ]
     },
     "metadata": {},
     "output_type": "display_data"
    }
   ],
   "source": [
    "# plot the distribution of the estimates, with the kde. \n",
    "sns.histplot(x_mc_estimates_wsl_3,kde=True)\n",
    "plt.show()\n",
    "# use the Q-Q plot to check if the distribution is Gaussian\n",
    "#Q-Q plots plot the data against a specified distribution. \n",
    "probplot(x_mc_estimates_wsl_3,dist='norm',plot=plt)\n",
    "plt.show()"
   ]
  }
 ],
 "metadata": {
  "kernelspec": {
   "display_name": "se-workshop",
   "language": "python",
   "name": "se-workshop"
  },
  "language_info": {
   "codemirror_mode": {
    "name": "ipython",
    "version": 3
   },
   "file_extension": ".py",
   "mimetype": "text/x-python",
   "name": "python",
   "nbconvert_exporter": "python",
   "pygments_lexer": "ipython3",
   "version": "3.10.12"
  }
 },
 "nbformat": 4,
 "nbformat_minor": 2
}
